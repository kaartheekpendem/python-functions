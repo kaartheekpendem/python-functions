{
 "cells": [
  {
   "cell_type": "code",
   "execution_count": null,
   "metadata": {},
   "outputs": [],
   "source": [
    "class myfunc:\n",
    "    def __init__(self,name,age):\n",
    "        self.name = name\n",
    "        self.age = age\n",
    "    def  myfunction(self):\n",
    "        print(\"my name is \" +self.name)\n",
    "p1 = myfunc(\"karthik\",25)\n",
    "print(p1.myfunction())\n"
   ]
  },
  {
   "cell_type": "code",
   "execution_count": null,
   "metadata": {},
   "outputs": [],
   "source": []
  },
  {
   "cell_type": "code",
   "execution_count": null,
   "metadata": {},
   "outputs": [],
   "source": []
  },
  {
   "cell_type": "code",
   "execution_count": 10,
   "metadata": {},
   "outputs": [
    {
     "ename": "NameError",
     "evalue": "name 'person' is not defined",
     "output_type": "error",
     "traceback": [
      "\u001b[1;31m---------------------------------------------------------------------------\u001b[0m",
      "\u001b[1;31mNameError\u001b[0m                                 Traceback (most recent call last)",
      "\u001b[1;32m<ipython-input-10-24899d60e12e>\u001b[0m in \u001b[0;36m<module>\u001b[1;34m\u001b[0m\n\u001b[1;32m----> 1\u001b[1;33m \u001b[0mp1\u001b[0m \u001b[1;33m=\u001b[0m \u001b[0mperson\u001b[0m\u001b[1;33m(\u001b[0m\u001b[1;34m\"karthik\"\u001b[0m\u001b[1;33m,\u001b[0m\u001b[1;36m25\u001b[0m\u001b[1;33m)\u001b[0m\u001b[1;33m\u001b[0m\u001b[1;33m\u001b[0m\u001b[0m\n\u001b[0m\u001b[0;32m      2\u001b[0m \u001b[0mp1\u001b[0m\u001b[1;33m.\u001b[0m\u001b[0mmyfunction\u001b[0m\u001b[1;33m(\u001b[0m\u001b[1;33m)\u001b[0m\u001b[1;33m\u001b[0m\u001b[1;33m\u001b[0m\u001b[0m\n",
      "\u001b[1;31mNameError\u001b[0m: name 'person' is not defined"
     ]
    }
   ],
   "source": [
    "p1 = person(\"karthik\",25)\n",
    "p1.myfunction()\n"
   ]
  },
  {
   "cell_type": "code",
   "execution_count": 14,
   "metadata": {},
   "outputs": [
    {
     "name": "stdout",
     "output_type": "stream",
     "text": [
      "1,2,3,4,5\n"
     ]
    },
    {
     "ename": "TypeError",
     "evalue": "'str' object cannot be interpreted as an integer",
     "output_type": "error",
     "traceback": [
      "\u001b[1;31m---------------------------------------------------------------------------\u001b[0m",
      "\u001b[1;31mTypeError\u001b[0m                                 Traceback (most recent call last)",
      "\u001b[1;32m<ipython-input-14-b07ff3a29ff0>\u001b[0m in \u001b[0;36m<module>\u001b[1;34m\u001b[0m\n\u001b[0;32m      1\u001b[0m \u001b[1;32mfrom\u001b[0m \u001b[0m__future__\u001b[0m \u001b[1;32mimport\u001b[0m \u001b[0mprint_function\u001b[0m\u001b[1;33m\u001b[0m\u001b[1;33m\u001b[0m\u001b[0m\n\u001b[0;32m      2\u001b[0m \u001b[0mscore_list\u001b[0m \u001b[1;33m=\u001b[0m \u001b[1;33m{\u001b[0m\u001b[1;33m}\u001b[0m\u001b[1;33m\u001b[0m\u001b[1;33m\u001b[0m\u001b[0m\n\u001b[1;32m----> 3\u001b[1;33m \u001b[1;32mfor\u001b[0m \u001b[0m_\u001b[0m \u001b[1;32min\u001b[0m \u001b[0mrange\u001b[0m\u001b[1;33m(\u001b[0m\u001b[0minput\u001b[0m\u001b[1;33m(\u001b[0m\u001b[1;33m)\u001b[0m\u001b[1;33m)\u001b[0m\u001b[1;33m:\u001b[0m\u001b[1;33m\u001b[0m\u001b[1;33m\u001b[0m\u001b[0m\n\u001b[0m\u001b[0;32m      4\u001b[0m     \u001b[0mname\u001b[0m \u001b[1;33m=\u001b[0m \u001b[0mraw_input\u001b[0m\u001b[1;33m(\u001b[0m\u001b[1;33m)\u001b[0m\u001b[1;33m\u001b[0m\u001b[1;33m\u001b[0m\u001b[0m\n\u001b[0;32m      5\u001b[0m     \u001b[0mscore\u001b[0m \u001b[1;33m=\u001b[0m \u001b[0mfloat\u001b[0m\u001b[1;33m(\u001b[0m\u001b[0mraw_input\u001b[0m\u001b[1;33m(\u001b[0m\u001b[1;33m)\u001b[0m\u001b[1;33m)\u001b[0m\u001b[1;33m\u001b[0m\u001b[1;33m\u001b[0m\u001b[0m\n",
      "\u001b[1;31mTypeError\u001b[0m: 'str' object cannot be interpreted as an integer"
     ]
    }
   ],
   "source": [
    "from __future__ import print_function\n",
    "score_list = {}\n",
    "for _ in range(input()):\n",
    "    name = raw_input()\n",
    "    score = float(raw_input())\n",
    "    if score in score_list:\n",
    "        score_list[score].append(name)\n",
    "    else:\n",
    "        score_list[score] = [name]\n",
    "new_list = []\n",
    "for i in score_list:\n",
    "    new_list.append([i, score_list[i]])\n",
    "new_list.sort()\n",
    "result = new_list[1][1]\n",
    "result.sort()\n",
    "print (*result, sep = \"\\n\")"
   ]
  },
  {
   "cell_type": "code",
   "execution_count": null,
   "metadata": {},
   "outputs": [],
   "source": [
    "nested_list = [['blue', 'green'], ['red', 'black'], ['blue', 'white']]\n",
    "print len(nested_list)\n",
    "# prints 3\n",
    "print nested_list[1]\n",
    "# prints ['red', 'black']\n",
    "print nested_list[1][0]\n",
    "# prints red\n",
    "    \n",
    "    "
   ]
  },
  {
   "cell_type": "code",
   "execution_count": null,
   "metadata": {},
   "outputs": [],
   "source": [
    "N=int(input())\n",
    "final=list()\n",
    "for i in range(N):\n",
    "    lst=list()\n",
    "    name=str(input())\n",
    "    marks=float(input())\n",
    "    lst.append(name)\n",
    "    lst.append(marks)\n",
    "    final.append(lst)\n",
    "k=list()\n",
    "for i in range (len(final)):\n",
    "    k.append(final[i][1])\n",
    "x=min(k)\n",
    "k1=list()\n",
    "for i in range(len(k)):\n",
    "    if x != k[i]:\n",
    "        k1.append(k[i])\n",
    "y=min(k1)\n",
    "students=list()\n",
    "for i in range(final):\n",
    "    if y == final[i]:\n",
    "        students.append(final[i][0])\n",
    "students.sort()\n",
    "for i in range(len(students)):\n",
    "    print(students[i])\n",
    "    \n",
    "    \n",
    "\n",
    "    \n",
    "    \n",
    "    "
   ]
  },
  {
   "cell_type": "code",
   "execution_count": null,
   "metadata": {},
   "outputs": [],
   "source": []
  },
  {
   "cell_type": "code",
   "execution_count": null,
   "metadata": {},
   "outputs": [],
   "source": [
    "N = int(input())\n",
    "final = list()\n",
    "for i in range(N):\n",
    "    lst = list()\n",
    "    name = str(input())\n",
    "    marks = float(input())\n",
    "    lst.append(name)\n",
    "    lst.append(marks)\n",
    "    final.append(lst)\n",
    "k = list()\n",
    "for i in range(len(final)):\n",
    "    k.append(final[i][1])\n",
    "x = min(k)\n",
    "k1 = list()\n",
    "for i in range(len(k)):\n",
    "    if x != k[i]:\n",
    "        k1.append(k[i])\n",
    "y = min(k1)\n",
    "student = list()\n",
    "for i in range(len(final)):\n",
    "    if y == final[i][1]:\n",
    "        student.append(final[i][0])\n",
    "student.sort()\n",
    "for i in range(len(student)):\n",
    "    print(student[i])\n"
   ]
  },
  {
   "cell_type": "code",
   "execution_count": 34,
   "metadata": {},
   "outputs": [
    {
     "name": "stdout",
     "output_type": "stream",
     "text": [
      "123\n",
      "this number is prime number\n",
      "this number is prime number\n",
      "this number is prime number\n",
      "this number is prime number\n",
      "this number is prime number\n",
      "this number is prime number\n",
      "this number is prime number\n",
      "this number is prime number\n",
      "this number is prime number\n",
      "this number is prime number\n",
      "this number is prime number\n",
      "this number is prime number\n",
      "this number is prime number\n",
      "this number is prime number\n",
      "this number is prime number\n",
      "this number is prime number\n",
      "this number is prime number\n",
      "this number is prime number\n",
      "this number is prime number\n",
      "this number is prime number\n",
      "this number is prime number\n",
      "this number is prime number\n",
      "this number is prime number\n",
      "this number is prime number\n",
      "this number is prime number\n",
      "this number is prime number\n",
      "this number is prime number\n",
      "this number is prime number\n",
      "this number is prime number\n",
      "this number is prime number\n",
      "this number is prime number\n",
      "this number is prime number\n",
      "this number is prime number\n",
      "this number is prime number\n",
      "this number is prime number\n",
      "this number is prime number\n",
      "this number is prime number\n",
      "this number is prime number\n",
      "this number is prime number\n",
      "this number is prime number\n",
      "this number is prime number\n",
      "this number is prime number\n",
      "this number is prime number\n",
      "this number is prime number\n",
      "this number is prime number\n",
      "this number is prime number\n",
      "this number is prime number\n",
      "this number is prime number\n",
      "this number is prime number\n",
      "this number is prime number\n",
      "this number is prime number\n",
      "this number is prime number\n",
      "this number is prime number\n",
      "this number is prime number\n",
      "this number is prime number\n",
      "this number is prime number\n",
      "this number is prime number\n",
      "this number is prime number\n",
      "this number is prime number\n",
      "this number is prime number\n",
      "this number is prime number\n",
      "this number is prime number\n",
      "this number is prime number\n",
      "this number is prime number\n",
      "this number is prime number\n",
      "this number is prime number\n",
      "this number is prime number\n",
      "this number is prime number\n",
      "this number is prime number\n",
      "this number is prime number\n",
      "this number is prime number\n",
      "this number is prime number\n",
      "this number is prime number\n",
      "this number is prime number\n",
      "this number is prime number\n",
      "this number is prime number\n",
      "this number is prime number\n",
      "this number is prime number\n",
      "this number is prime number\n",
      "this number is prime number\n",
      "this number is prime number\n",
      "this number is prime number\n",
      "this number is prime number\n",
      "this number is prime number\n",
      "this number is prime number\n",
      "this number is prime number\n",
      "this number is prime number\n",
      "this number is prime number\n",
      "this number is prime number\n",
      "this number is prime number\n",
      "this number is prime number\n",
      "this number is prime number\n",
      "this number is prime number\n",
      "this number is prime number\n",
      "this number is prime number\n",
      "this number is prime number\n",
      "this number is prime number\n",
      "this number is prime number\n",
      "this number is prime number\n",
      "this number is prime number\n",
      "this number is prime number\n",
      "this number is prime number\n",
      "this number is prime number\n",
      "this number is prime number\n",
      "this number is prime number\n",
      "this number is prime number\n",
      "this number is prime number\n",
      "this number is prime number\n",
      "this number is prime number\n",
      "this number is prime number\n",
      "this number is prime number\n",
      "this number is prime number\n",
      "this number is prime number\n",
      "this number is prime number\n",
      "this number is prime number\n",
      "this number is prime number\n",
      "this number is prime number\n",
      "this number is prime number\n",
      "this number is prime number\n",
      "this number is prime number\n",
      "this number is prime number\n"
     ]
    }
   ],
   "source": [
    "n=int(input())\n",
    "for i in range(2,n):\n",
    "    if (n % 2) == 0:\n",
    "        print('This number is not prime number')\n",
    "    else:\n",
    "        print('this number is prime number')\n",
    "            "
   ]
  },
  {
   "cell_type": "code",
   "execution_count": 37,
   "metadata": {},
   "outputs": [
    {
     "name": "stdout",
     "output_type": "stream",
     "text": [
      "34\n",
      "This number is not prime number\n"
     ]
    }
   ],
   "source": [
    "n=int(input())\n",
    "if n > 1:\n",
    "    for i in range(2,n):\n",
    "        if (n % i) == 0:\n",
    "            print('This number is not prime number')\n",
    "        else:\n",
    "            print('this number is prime number')\n",
    "        break"
   ]
  },
  {
   "cell_type": "code",
   "execution_count": 41,
   "metadata": {},
   "outputs": [
    {
     "name": "stdout",
     "output_type": "stream",
     "text": [
      "choose your operation:\n",
      "1.add 2.sub 3.mul 4.div\n",
      "enter your values:3\n",
      "first number:23\n",
      "second number:45\n",
      "mul 1035\n"
     ]
    }
   ],
   "source": [
    "def add(a,b):\n",
    "    return a+b\n",
    "def sub(a,b):\n",
    "    return a-b\n",
    "def mul(a,b):\n",
    "    return a*b\n",
    "def div(a,b):\n",
    "    return a/b\n",
    "print('choose your operation:')\n",
    "print('1.add','2.sub','3.mul','4.div')\n",
    "choice = input('enter your values:')\n",
    "num1 = int(input('first number:'))\n",
    "num2 = int(input('second number:'))\n",
    "if choice == '1':\n",
    "     print('add',add(num1,num2))\n",
    "elif choice == '2':\n",
    "    print('sub',sub(num1,num2))\n",
    "elif choice == '3':\n",
    "    print('mul',mul(num1,num2))\n",
    "elif choice == '4':\n",
    "    print('div',div(num1,num2))\n",
    "else:\n",
    "    print('wrong choice')\n",
    "               "
   ]
  },
  {
   "cell_type": "code",
   "execution_count": 47,
   "metadata": {},
   "outputs": [
    {
     "name": "stdout",
     "output_type": "stream",
     "text": [
      "enter your number:4\n",
      "the factorial of 4 is 24\n"
     ]
    }
   ],
   "source": [
    "n = int(input('enter your number:'))\n",
    "factorial = 1\n",
    "if n <0:\n",
    "    print('factorial does not exist for this number')\n",
    "elif n == 0:\n",
    "    print('factiorial of 0 is 1')\n",
    "else:\n",
    "        for i in range(1,n+1):\n",
    "            factorial = factorial * i\n",
    "        print('the factorial of',n,'is',factorial)\n",
    "        \n",
    "            "
   ]
  },
  {
   "cell_type": "code",
   "execution_count": null,
   "metadata": {},
   "outputs": [],
   "source": []
  },
  {
   "cell_type": "code",
   "execution_count": 50,
   "metadata": {},
   "outputs": [
    {
     "name": "stdout",
     "output_type": "stream",
     "text": [
      "6\n",
      "sqrt of n : 2.449489742783178\n"
     ]
    }
   ],
   "source": [
    "n = int(input())\n",
    "sqrt = n ** 0.5\n",
    "print('sqrt of n :',sqrt)\n"
   ]
  },
  {
   "cell_type": "code",
   "execution_count": null,
   "metadata": {},
   "outputs": [],
   "source": []
  },
  {
   "cell_type": "code",
   "execution_count": 54,
   "metadata": {},
   "outputs": [
    {
     "name": "stdout",
     "output_type": "stream",
     "text": [
      "5\n"
     ]
    }
   ],
   "source": [
    "import random\n",
    "print(random.randint(0,9))\n"
   ]
  },
  {
   "cell_type": "code",
   "execution_count": 58,
   "metadata": {},
   "outputs": [
    {
     "name": "stdout",
     "output_type": "stream",
     "text": [
      "5.7\n",
      "5.7 km is equal to  3.477 miles\n"
     ]
    }
   ],
   "source": [
    "km = float(input())\n",
    "cal = 0.61\n",
    "miles = km * cal\n",
    "print(km ,'km is equal to ',miles,'miles')\n",
    "\n"
   ]
  },
  {
   "cell_type": "code",
   "execution_count": 62,
   "metadata": {},
   "outputs": [
    {
     "name": "stdout",
     "output_type": "stream",
     "text": [
      "2013\n",
      "2013\n"
     ]
    }
   ],
   "source": [
    "year = int(input())\n",
    "print(format(year))\n"
   ]
  },
  {
   "cell_type": "markdown",
   "metadata": {},
   "source": []
  },
  {
   "cell_type": "code",
   "execution_count": 65,
   "metadata": {},
   "outputs": [
    {
     "name": "stdout",
     "output_type": "stream",
     "text": [
      "1 x 18 18\n",
      "2 x 18 36\n",
      "3 x 18 54\n",
      "4 x 18 72\n",
      "5 x 18 90\n",
      "6 x 18 108\n",
      "7 x 18 126\n",
      "8 x 18 144\n",
      "9 x 18 162\n",
      "10 x 18 180\n"
     ]
    }
   ],
   "source": [
    "num = 18\n",
    "for i in range(1,11):\n",
    "    print(i,'x',num, num * i)"
   ]
  },
  {
   "cell_type": "code",
   "execution_count": 72,
   "metadata": {},
   "outputs": [
    {
     "name": "stdout",
     "output_type": "stream",
     "text": [
      "9\n",
      "1\n",
      "2\n",
      "4\n",
      "8\n",
      "16\n",
      "32\n",
      "64\n",
      "128\n",
      "256\n"
     ]
    }
   ],
   "source": [
    "terms= int(input())\n",
    "result = list(map(lambda x: 2 ** x,range(terms)))\n",
    "for i in range(terms):\n",
    "    print(result[i])\n",
    "    \n",
    "    \n"
   ]
  },
  {
   "cell_type": "code",
   "execution_count": 77,
   "metadata": {},
   "outputs": [
    {
     "name": "stdout",
     "output_type": "stream",
     "text": [
      "54\n",
      "24\n",
      "6\n"
     ]
    }
   ],
   "source": [
    "def compute(x,y):\n",
    "    if x>y:\n",
    "        smaller = y\n",
    "    elif x < y:\n",
    "        smaller = x\n",
    "    for i in range(1,smaller+1):\n",
    "        if ((x % i == 0) and (y % i == 0)):\n",
    "            hcf = i\n",
    "    return hcf \n",
    "num1 = int(input())\n",
    "num2 = int(input())\n",
    "print(compute(num1,num2))\n",
    "\n",
    "        "
   ]
  },
  {
   "cell_type": "code",
   "execution_count": null,
   "metadata": {},
   "outputs": [],
   "source": []
  },
  {
   "cell_type": "markdown",
   "metadata": {},
   "source": []
  },
  {
   "cell_type": "code",
   "execution_count": null,
   "metadata": {},
   "outputs": [],
   "source": []
  },
  {
   "cell_type": "code",
   "execution_count": 78,
   "metadata": {},
   "outputs": [
    {
     "name": "stdout",
     "output_type": "stream",
     "text": [
      "[2, 4, 6, 8]\n"
     ]
    }
   ],
   "source": [
    "mylist=[1,2,3,4,5,6,7,8]\n",
    "result=list(filter(lambda x: (x % 2 == 0),mylist))\n",
    "print(result)\n"
   ]
  },
  {
   "cell_type": "code",
   "execution_count": 96,
   "metadata": {},
   "outputs": [
    {
     "name": "stdout",
     "output_type": "stream",
     "text": [
      "[[2, 8, 18], [12, 15, 18], [35, 16, 9]]\n",
      "[[2, 8, 18], [12, 15, 18], [35, 16, 9]]\n",
      "[[2, 8, 18], [12, 15, 18], [35, 16, 9]]\n"
     ]
    }
   ],
   "source": [
    "x=[[1,2,3],\n",
    "   [4,5,6],\n",
    "   [7,8,9]]\n",
    "y=[[2,3,5],\n",
    "  [4,3,2],\n",
    "   [6,3,1]]\n",
    "z=[[0,0,0],\n",
    "  [0,0,0],\n",
    "  [0,0,0]]\n",
    "for i in range(len(x)):\n",
    "    for j in range(len(y)):\n",
    "        z[i][j] += x[i][j]  * y[j][i]\n",
    "for k in z:\n",
    "    print(z)\n",
    "    "
   ]
  },
  {
   "cell_type": "code",
   "execution_count": 95,
   "metadata": {},
   "outputs": [
    {
     "name": "stdout",
     "output_type": "stream",
     "text": [
      "[1, 4, 7]\n",
      "[2, 5, 8]\n"
     ]
    }
   ],
   "source": [
    "x=[[1,2],\n",
    "   [4,5],\n",
    "   [7,8]]\n",
    "result=[[0,0,0],\n",
    "       [0,0,0]]\n",
    "for i in range(len(x)):\n",
    "    for j in range(len(x[0])):\n",
    "        result[j][i] = x[i][j] \n",
    "for r in result:\n",
    "    print(r)\n",
    "        "
   ]
  },
  {
   "cell_type": "code",
   "execution_count": 91,
   "metadata": {},
   "outputs": [
    {
     "name": "stdout",
     "output_type": "stream",
     "text": [
      "3\n"
     ]
    }
   ],
   "source": [
    "x=[[1,2],\n",
    "   [4,5],\n",
    "   [7,8]]\n",
    "print(len(x))\n"
   ]
  },
  {
   "cell_type": "code",
   "execution_count": 100,
   "metadata": {},
   "outputs": [
    {
     "name": "stdout",
     "output_type": "stream",
     "text": [
      " helloworld\n"
     ]
    }
   ],
   "source": [
    "punch = '!,@,#$%%^&*()_'\n",
    "s='hello,world'\n",
    "no_punch = \" \"\n",
    "for i in s:\n",
    "    if i not in punch:\n",
    "        no_punch = no_punch + i\n",
    "print(no_punch)\n",
    "        "
   ]
  },
  {
   "cell_type": "code",
   "execution_count": 103,
   "metadata": {},
   "outputs": [
    {
     "name": "stdout",
     "output_type": "stream",
     "text": [
      "{1, 2, 3, 4, 5, 6, 7, 8}\n"
     ]
    }
   ],
   "source": [
    "e = {1,2,3,4,5,6}\n",
    "f = {3,4,5,6,7,8}\n",
    "print(e | f)\n"
   ]
  },
  {
   "cell_type": "code",
   "execution_count": null,
   "metadata": {},
   "outputs": [],
   "source": []
  },
  {
   "cell_type": "code",
   "execution_count": null,
   "metadata": {},
   "outputs": [],
   "source": []
  },
  {
   "cell_type": "code",
   "execution_count": null,
   "metadata": {},
   "outputs": [],
   "source": []
  },
  {
   "cell_type": "code",
   "execution_count": null,
   "metadata": {},
   "outputs": [],
   "source": []
  },
  {
   "cell_type": "code",
   "execution_count": 113,
   "metadata": {},
   "outputs": [
    {
     "name": "stdout",
     "output_type": "stream",
     "text": [
      "enter a string: aaiioue\n",
      "{'a': 2, 'e': 1, 'i': 2, 'o': 1, 'u': 1}\n"
     ]
    }
   ],
   "source": [
    "vowels ='aeiou'\n",
    "s=input(\"enter a string: \")\n",
    "s=s.casefold()\n",
    "count = {}.fromkeys(vowels,0)\n",
    "for c in s:\n",
    "    if c in count:\n",
    "        count[c] +=1\n",
    "print(count)\n"
   ]
  },
  {
   "cell_type": "code",
   "execution_count": null,
   "metadata": {},
   "outputs": [],
   "source": [
    "a=list(input())\n",
    "b=list(input())\n",
    "c=map(lambda a,b: a * b, a, b)\n",
    "print(list(c))"
   ]
  },
  {
   "cell_type": "code",
   "execution_count": null,
   "metadata": {},
   "outputs": [],
   "source": [
    "numbers1 = [1, 2, 3] \n",
    "numbers2 = [4, 5, 6] \n",
    "  \n",
    "result = map(lambda x, y: x * y, numbers1, numbers2) \n",
    "print(list(result)) "
   ]
  },
  {
   "cell_type": "code",
   "execution_count": null,
   "metadata": {},
   "outputs": [],
   "source": [
    "a =[1,2,3,4]\n",
    "b =[1,2,3,4]\n",
    "c= map(lambda a,b: a * b, a, b)\n",
    "print(list(c))"
   ]
  },
  {
   "cell_type": "code",
   "execution_count": null,
   "metadata": {},
   "outputs": [],
   "source": [
    "numbers1 = [1, 2, 3] \n",
    "numbers2 = [4, 5, 6] \n",
    "  \n",
    "result = map(lambda x, y: x * y, numbers1, numbers2) \n",
    "print(list(result)) "
   ]
  },
  {
   "cell_type": "code",
   "execution_count": null,
   "metadata": {},
   "outputs": [],
   "source": []
  }
 ],
 "metadata": {
  "kernelspec": {
   "display_name": "Python 3",
   "language": "python",
   "name": "python3"
  },
  "language_info": {
   "codemirror_mode": {
    "name": "ipython",
    "version": 3
   },
   "file_extension": ".py",
   "mimetype": "text/x-python",
   "name": "python",
   "nbconvert_exporter": "python",
   "pygments_lexer": "ipython3",
   "version": "3.7.1"
  }
 },
 "nbformat": 4,
 "nbformat_minor": 2
}
